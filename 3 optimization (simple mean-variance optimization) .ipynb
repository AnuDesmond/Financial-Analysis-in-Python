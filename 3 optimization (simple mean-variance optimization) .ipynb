{
 "cells": [
  {
   "cell_type": "code",
   "execution_count": 1,
   "metadata": {},
   "outputs": [
    {
     "name": "stdout",
     "output_type": "stream",
     "text": [
      "first differential of -(x - 4)**2 -2*x + 8\n"
     ]
    }
   ],
   "source": [
    "#get the FOC given a function\n",
    "from sympy import *\n",
    "init_printing(use_latex='mathjax')\n",
    "\n",
    "x, f= symbols('x f')\n",
    "f = diff(-(x-4)**2, x)\n",
    "print('first differential of', -(x-4)**2, f)"
   ]
  },
  {
   "cell_type": "code",
   "execution_count": 2,
   "metadata": {},
   "outputs": [
    {
     "name": "stdout",
     "output_type": "stream",
     "text": [
      "set the first differential equation to 0, we get: [4] \n",
      "as maximium point\n"
     ]
    }
   ],
   "source": [
    "#get the maximimu or minimum point \n",
    "print('set the first differential equation to 0, we get:', solve(f, x), '\\nas maximium point')"
   ]
  },
  {
   "cell_type": "code",
   "execution_count": 3,
   "metadata": {},
   "outputs": [
    {
     "name": "stdout",
     "output_type": "stream",
     "text": [
      "Numerical solution searching, we get:\n"
     ]
    },
    {
     "data": {
      "text/plain": [
       "     fun: 0.0\n",
       " message: 'Solution found.'\n",
       "    nfev: 6\n",
       "  status: 0\n",
       " success: True\n",
       "       x: 4.0"
      ]
     },
     "execution_count": 3,
     "metadata": {},
     "output_type": "execute_result"
    }
   ],
   "source": [
    "#another method \n",
    "print('Numerical solution searching, we get:')\n",
    "from scipy import optimize as opt\n",
    "def f(x):\n",
    "    return (x-4)**2\n",
    "#opt.minimize_scalar(f, method='Brent')\n",
    "opt.minimize_scalar(f, method='bounded', bounds=[0, 8])"
   ]
  },
  {
   "cell_type": "code",
   "execution_count": 4,
   "metadata": {},
   "outputs": [
    {
     "name": "stdout",
     "output_type": "stream",
     "text": [
      "Hessian:\n",
      " [[-2 0]\n",
      " [0 -2]]\n"
     ]
    }
   ],
   "source": [
    "#for C2 function with multiple xi variables\n",
    "# Check Hessian to see if there is critical point\n",
    "import numpy as np\n",
    "from sympy import symbols, hessian, Function, N\n",
    "\n",
    "x1, x2 = symbols('x1 x2')\n",
    "f = symbols('f', cls=Function)\n",
    "\n",
    "f = -((x1-1)**2 + (x2)**2)\n",
    "H = hessian(f, [x1, x2]).subs([(x1,1), (x2,1)])\n",
    "print('Hessian:\\n', np.array(H))"
   ]
  },
  {
   "cell_type": "code",
   "execution_count": 5,
   "metadata": {},
   "outputs": [
    {
     "name": "stdout",
     "output_type": "stream",
     "text": [
      "numerical solution for the equivalent constrained minimization problem:\n",
      "\n"
     ]
    },
    {
     "data": {
      "text/plain": [
       "     fun: 4.500000421997264\n",
       "     jac: array([-3.00091863, -2.99908125])\n",
       " message: 'Optimization terminated successfully.'\n",
       "    nfev: 18\n",
       "     nit: 4\n",
       "    njev: 4\n",
       "  status: 0\n",
       " success: True\n",
       "       x: array([-0.50045935, -1.49954065])"
      ]
     },
     "execution_count": 5,
     "metadata": {},
     "output_type": "execute_result"
    }
   ],
   "source": [
    "#find the numerical solution to the problem with constraints by using computer search algorithm.\n",
    "#constraint: x1+x2 <=-2\n",
    "print('numerical solution for the equivalent constrained minimization problem:\\n')\n",
    "cons = ({'type': 'ineq',\n",
    "         'fun' : lambda x: np.array([-x[1] - x[0] - 2])})\n",
    "\n",
    "def f(x):\n",
    "    return ((x[0]-1)**2 + (x[1])**2)\n",
    "cx = opt.minimize(f, [1, -2], constraints=cons)#program flips the function and constraint and do a minimization\n",
    "cx#the result is the same with the solution from lagrangian solution"
   ]
  },
  {
   "cell_type": "code",
   "execution_count": 6,
   "metadata": {},
   "outputs": [],
   "source": [
    "import pandas as pd\n",
    "import matplotlib.pyplot as plt\n",
    "%matplotlib inline\n",
    "import seaborn as sns\n",
    "from numpy.linalg import inv\n",
    "from numpy import dot\n",
    "#write a function to solve simplest mean-variance problem, in which rf is considered to be 0\n",
    "def meanvar(miu,rbar,cov):\n",
    "    \"\"\"\n",
    "    this function is used to get the minimal variance\n",
    "    miu is the expected return for a given set of asset\n",
    "    rbar is the expected return vector for a set of assets \n",
    "    cov is the covariance matrix for the assets\n",
    "    return[0] is the vector of weights and return[1] is the minimized standard deviation\n",
    "    \"\"\"\n",
    "    import math\n",
    "    ones = np.ones(rbar.shape)\n",
    "    #solve lagrangian lamda 1,2 from fomulas\n",
    "    A=rbar.T.dot(inv(cov)).dot(rbar)\n",
    "    B=rbar.T.dot(inv(cov)).dot(ones)\n",
    "    C=ones.T.dot(inv(cov)).dot(ones)    \n",
    "    lambda1=(C*miu-B)/(A*C-B**2)\n",
    "    lambda2=(A-B*miu)/(A*C-B**2)\n",
    "    #get the vector of weights\n",
    "    omiga=(inv(cov)).dot(rbar)*lambda1+(inv(cov)).dot(ones)*lambda2\n",
    "    #get the minimized standard deviation\n",
    "    GMVstd=math.sqrt((A-2*B*miu+C*miu**2)/(A*C-B**2))\n",
    "    #return the result\n",
    "    return omiga,GMVstd\n",
    "    "
   ]
  },
  {
   "cell_type": "code",
   "execution_count": null,
   "metadata": {},
   "outputs": [],
   "source": [
    "#Plot mean-variance efficeint curve. \n",
    "mus = np.linspace(0.001, 0.12, 100) \n",
    "sigmas =[] \n",
    "for m in mus:    \n",
    "    sm = meanvar(m,rbar,cov)[1]    \n",
    "    sigmas.append(sm) \n",
    "zipped =zip(mus, sigmas) \n",
    "fig, ax = plt.subplots(figsize=(16,10))\n",
    "plt.plot(sigmas, mus, label='Mean Variance Frontier') \n",
    "plt.xlabel(r'$\\sigma (R)$') \n",
    "plt.ylabel(r'$E(R)$') \n",
    "plt.title('Mean Variance Frontier',size=15) \n",
    "plt.xlim([0, 0.25]) \n",
    "plt.legend()\n",
    "plt.show()  "
   ]
  },
  {
   "cell_type": "code",
   "execution_count": null,
   "metadata": {},
   "outputs": [],
   "source": [
    "#write a function to solve mean-variance problem given risk free rate\n",
    "def meanvar2(rbar,cov,rf):\n",
    "    \"\"\"\n",
    "    this function is used to get the weights which allow us to have the maximal sharpe ratio\n",
    "    rbar is the expected return vector for a set of assets \n",
    "    cov is the covariance matrix for the assets\n",
    "    rf is the given risk free rate\n",
    "    return[0] is the vector of weights \n",
    "    \"\"\"\n",
    "    import math\n",
    "    ones = np.ones(rbar.shape)\n",
    "    numerator=inv(cov).dot(rbar-rf*ones)\n",
    "    denominator=(rbar-rf*ones).T.dot(inv(cov)).dot(ones)\n",
    "    omiga=numerator/denominator\n",
    "    return omiga"
   ]
  }
 ],
 "metadata": {
  "kernelspec": {
   "display_name": "Python 3",
   "language": "python",
   "name": "python3"
  },
  "language_info": {
   "codemirror_mode": {
    "name": "ipython",
    "version": 3
   },
   "file_extension": ".py",
   "mimetype": "text/x-python",
   "name": "python",
   "nbconvert_exporter": "python",
   "pygments_lexer": "ipython3",
   "version": "3.6.5"
  }
 },
 "nbformat": 4,
 "nbformat_minor": 2
}
